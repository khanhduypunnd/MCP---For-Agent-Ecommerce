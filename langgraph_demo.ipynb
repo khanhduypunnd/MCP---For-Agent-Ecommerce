{
 "cells": [
  {
   "cell_type": "code",
   "execution_count": 17,
   "id": "b85c24f8",
   "metadata": {},
   "outputs": [
    {
     "data": {
      "text/plain": [
       "True"
      ]
     },
     "execution_count": 17,
     "metadata": {},
     "output_type": "execute_result"
    }
   ],
   "source": [
    "import os\n",
    "from typing import TypedDict, List, Dict, Any, Optional\n",
    "from langgraph.graph import StateGraph, START, END, add_messages\n",
    "from langchain_groq import ChatGroq\n",
    "from langchain_core.messages import HumanMessage\n",
    "from langchain_mcp_adapters.client import MultiServerMCPClient\n",
    "from dotenv import load_dotenv\n",
    "from langgraph.prebuilt import create_react_agent\n",
    "import asyncio\n",
    "load_dotenv()"
   ]
  },
  {
   "cell_type": "code",
   "execution_count": null,
   "id": "ebd92388",
   "metadata": {},
   "outputs": [],
   "source": [
    "async def main():\n",
    "    client = MultiServerMCPClient(\n",
    "        {\n",
    "            \"muse\": {\n",
    "                \"command\": \"python\",\n",
    "                \"args\": [\"C:/Users/84963/Documents/hoc_tap/AI_Engineer/mcp/first_server.py\"],\n",
    "                \"transport\": \"stdio\",\n",
    "            },\n",
    "            # \"muse_perfume\": {\n",
    "            #     # Ensure your start your weather server on port 8000\n",
    "            #     \"url\": \"http://localhost:8000/mcp\",\n",
    "            #     \"transport\": \"streamable_http\",\n",
    "            # }\n",
    "        }\n",
    "    )\n",
    "    # Call the asynchronous function\n",
    "    tools = await client.get_tools()\n",
    "    print(\"Tools available:\", tools)\n",
    "    # Initialize our LLM\n",
    "    GROQ_API_KEY = os.getenv(\"GROQ_API_KEY\")\n",
    "    model = ChatGroq(groq_api_key=GROQ_API_KEY, model=\"qwen/qwen3-32b\")\n",
    "\n",
    "    agent = create_react_agent(model, tools)\n",
    "    response =  agent.invoke(\n",
    "        {\n",
    "            \"messages\": [\n",
    "                # {\n",
    "                #     \"role\": \"system\",\n",
    "                #     \"content\": \"You are a helpful assistant that can answer questions about products.\"\\\n",
    "                #         \"You have access to a product variation resource tool.\",\n",
    "                # },\n",
    "                {\n",
    "                    \"role\": \"user\",\n",
    "                    \"content\": \"Get the weather in Ho Chi Minh City, if there are any errors, please return them.\",\n",
    "                }\n",
    "            ]\n",
    "        }\n",
    "    )\n",
    "    print(\"Final response:\", response[\"messages\"][-1].content)\n",
    "\n",
    "asyncio.run(main())"
   ]
  }
 ],
 "metadata": {
  "kernelspec": {
   "display_name": "tf-gpu",
   "language": "python",
   "name": "python3"
  },
  "language_info": {
   "codemirror_mode": {
    "name": "ipython",
    "version": 3
   },
   "file_extension": ".py",
   "mimetype": "text/x-python",
   "name": "python",
   "nbconvert_exporter": "python",
   "pygments_lexer": "ipython3",
   "version": "3.10.11"
  }
 },
 "nbformat": 4,
 "nbformat_minor": 5
}
